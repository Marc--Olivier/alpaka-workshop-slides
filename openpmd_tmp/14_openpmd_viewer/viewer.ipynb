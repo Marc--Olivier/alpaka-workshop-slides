{
 "cells": [
  {
   "cell_type": "markdown",
   "id": "0fbe86ea",
   "metadata": {},
   "source": [
    "For a start, this can be run as is and explored in the Jupyter GUI launched by `ts.slider()` below.\n",
    "(It might be necessary to select a mesh to trigger the first visualization in the beginning. Ignore the `picongpu_idProvider` mesh, it contains internal data only and is not suitable for visualization.)\n",
    "\n",
    "\n",
    "Tasks:\n",
    "\n",
    "1. Computation of the particle histograms is relatively cost-intensive. Unselect \"Always Refresh\" to have a more responsive experience visualizing the meshes. Use \"Refresh now!\" to compute the particle histogram on demand.\n",
    "2. Select a mesh. While all meshes are 3D (they occupy the same space after all), two of them are scalar and the other two are vector types. Which? How do you see the difference?\n",
    "3. Open the slice selection tab. In order to visualize a 3D field in two dimensions, the openPMD-viewer lets you select a slice within the 3D field. Can you use the slice selection to figure out into which direction the simulation propagates? Tip: You can pick an Iteration number from the top to see the simulation state at different stages. Use the Plus `+` button to view the selected slice as the simulation goes on.\n",
    "4. Try plotting a particle histogram that matches the observed dynamics at the slice. Note that both one- and two-dimensional histograms are supported.\n",
    "5. Bonus: Try visualizing the output from the heat equation example written earlier. Note that the openPMD-viewer is written for random-access of visualization data, while variable-based encoding is (currently) written mostly for streaming workflows where Iterations can only be accessed one after another. Hence, do not use the output created with variable-based encoding for visualization here. Note: The openPMD-viewer assumes specification of the parent directory containing openPMD data. This directory should not contain multiple openPMD datasets.\n",
    "6. Bonus: You might have notices that the colorbar is recomputed for each Iteration. In order to have a more consistent output, try fixing one colorbar."
   ]
  },
  {
   "cell_type": "code",
   "execution_count": null,
   "id": "deeb6433-26b7-4120-88fa-34bf5233af13",
   "metadata": {},
   "outputs": [],
   "source": [
    "from openpmd_viewer import OpenPMDTimeSeries\n",
    "import openpmd_api as opmd\n",
    "opmd.file_extensions\n",
    "path = \"/pfs/lustrep3/scratch/project_465001310/poeschel/2024-09-20/8_v1/simOutput/openPMD\""
   ]
  },
  {
   "cell_type": "code",
   "execution_count": null,
   "id": "978d9c65-4b71-44c2-a9d5-ce1c584d889b",
   "metadata": {},
   "outputs": [],
   "source": [
    "ts = OpenPMDTimeSeries(path)"
   ]
  },
  {
   "cell_type": "code",
   "execution_count": null,
   "id": "57de4c53-3a43-45cd-90a5-0b1d6dd603b7",
   "metadata": {},
   "outputs": [],
   "source": [
    "%matplotlib ipympl\n",
    "ts.slider()"
   ]
  }
 ],
 "metadata": {
  "kernelspec": {
   "display_name": "Python 3 (ipykernel)",
   "language": "python",
   "name": "python3"
  },
  "language_info": {
   "codemirror_mode": {
    "name": "ipython",
    "version": 3
   },
   "file_extension": ".py",
   "mimetype": "text/x-python",
   "name": "python",
   "nbconvert_exporter": "python",
   "pygments_lexer": "ipython3",
   "version": "3.9.13"
  }
 },
 "nbformat": 4,
 "nbformat_minor": 5
}
