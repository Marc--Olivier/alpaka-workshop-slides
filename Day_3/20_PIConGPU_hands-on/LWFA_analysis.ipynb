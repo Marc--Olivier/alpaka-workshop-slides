{
 "cells": [
  {
   "cell_type": "markdown",
   "id": "1fe290d1-1acd-4d9d-8ad8-20b4efc26e86",
   "metadata": {},
   "source": [
    "# Exploring your fisrt PIConGPU LWFA simulation"
   ]
  },
  {
   "cell_type": "markdown",
   "id": "b0a41920-560d-4678-b8bc-936b5c7ad780",
   "metadata": {},
   "source": [
    "## load python modules"
   ]
  },
  {
   "cell_type": "code",
   "execution_count": null,
   "id": "79a35907-2ddd-49b3-8c0c-2543ca827cc8",
   "metadata": {},
   "outputs": [],
   "source": [
    "import numpy as np\n",
    "import matplotlib.pyplot as plt\n",
    "import scipy.constants as const\n",
    "import openpmd_api as io\n",
    "import openpmd_viewer as viewer"
   ]
  },
  {
   "cell_type": "markdown",
   "id": "f2e8bbe1-1486-49b3-9359-1114ba45230d",
   "metadata": {},
   "source": [
    "### add libaries shiped with PIConGPU "
   ]
  },
  {
   "cell_type": "markdown",
   "id": "f875e4ac-b1c1-4ad2-b869-674c30116ffd",
   "metadata": {},
   "source": [
    "Please adjust `PIConGPU_src` to the path to your PIConGPU source code"
   ]
  },
  {
   "cell_type": "code",
   "execution_count": null,
   "id": "b7304ff5-18a9-4e34-9013-fc133c980831",
   "metadata": {},
   "outputs": [],
   "source": [
    "PIConGPU_src = \"__path_to_our_PIConGPU_source_code__\""
   ]
  },
  {
   "cell_type": "code",
   "execution_count": null,
   "id": "eba86d6d-940c-46f8-a8b4-d32600893e2c",
   "metadata": {},
   "outputs": [],
   "source": [
    "import sys\n",
    "sys.path.append(PIConGPU_src + \"/lib/python/picongpu/\")"
   ]
  },
  {
   "cell_type": "code",
   "execution_count": null,
   "id": "27cf7ce2-9df8-46c7-93fe-37c916b154e0",
   "metadata": {},
   "outputs": [],
   "source": [
    "# might need to be executed 2x !!! \n",
    "\n",
    "from extra.plugins.data import EnergyHistogramData"
   ]
  },
  {
   "cell_type": "markdown",
   "id": "67eea9d4-43b5-46a0-82bf-653227a62a07",
   "metadata": {},
   "source": [
    "## set path to your simulation directory\n",
    "\n",
    "Please adjust `path_to_simulation`"
   ]
  },
  {
   "cell_type": "code",
   "execution_count": null,
   "id": "7f4ae718-f86e-43d9-be87-9db52d0fdcec",
   "metadata": {},
   "outputs": [],
   "source": [
    "path_to_simulation = \"__path_to_your_PIConGPU_simulation__\""
   ]
  },
  {
   "cell_type": "markdown",
   "id": "c1f96429-e55a-4900-862a-0ca8dbe6e625",
   "metadata": {},
   "source": [
    "## load data from energy histogram (in-situ plugin)"
   ]
  },
  {
   "cell_type": "code",
   "execution_count": null,
   "id": "fc3fd375-b7c4-440e-be71-83ae7a6ec5d5",
   "metadata": {},
   "outputs": [],
   "source": [
    "# create object for all energy histogram data\n",
    "eh_data = EnergyHistogramData(path_to_simulation) # the directory in which simOutput is located"
   ]
  },
  {
   "cell_type": "code",
   "execution_count": null,
   "id": "605e9869-8476-4d82-b1e9-c8eb08757e6b",
   "metadata": {},
   "outputs": [],
   "source": [
    "# show available iterations\n",
    "print(\"1:\", eh_data.get_iterations(species='e'), \"\\n\")\n",
    "\n",
    "# show available simulation times\n",
    "print(\"2.\", eh_data.get_times(species='e'))"
   ]
  },
  {
   "cell_type": "code",
   "execution_count": null,
   "id": "064332a2-1964-4f42-910b-2211f4b0db44",
   "metadata": {},
   "outputs": [],
   "source": [
    "# load data for a given iteration\n",
    "counts, bins_keV, _, _ = eh_data.get(species='e', species_filter='all', iteration=2000)"
   ]
  },
  {
   "cell_type": "markdown",
   "id": "7644c5ff-d4e5-4b84-8070-5ba925c04eee",
   "metadata": {},
   "source": [
    "### plot energy histogram "
   ]
  },
  {
   "cell_type": "code",
   "execution_count": null,
   "id": "16e8b339-a803-4b63-87e4-e49a619be06d",
   "metadata": {},
   "outputs": [],
   "source": [
    "plt.plot(bins_keV, counts)\n",
    "\n",
    "plt.xlabel(r\"$E \\mathrm{[MeV]}$\", fontsize=18)\n",
    "plt.xticks(fontsize=14)\n",
    "\n",
    "plt.ylabel(r\"$N_e$\", fontsize=18)\n",
    "plt.yticks(fontsize=14)\n",
    "plt.yscale(\"log\")\n",
    "\n",
    "plt.tight_layout()\n",
    "plt.show()"
   ]
  },
  {
   "cell_type": "markdown",
   "id": "e349d2ab-77a1-42ad-ba21-e6e1986d2e01",
   "metadata": {},
   "source": [
    "### some more options:"
   ]
  },
  {
   "cell_type": "code",
   "execution_count": null,
   "id": "4c1d1d1f-844e-4b65-9777-39619a82f028",
   "metadata": {},
   "outputs": [],
   "source": [
    "# load data for a given time\n",
    "counts, bins_keV, iteration, dt = eh_data.get(species='e', species_filter='all', time=1.3900e-14)"
   ]
  },
  {
   "cell_type": "code",
   "execution_count": null,
   "id": "83111caf-73ea-47bb-867b-f09c941b6dbf",
   "metadata": {},
   "outputs": [],
   "source": [
    "# get data for multiple iterations\n",
    "counts, bins_keV, iteration, dt = eh_data.get(species='e', iteration=[200, 400, 1000])"
   ]
  },
  {
   "cell_type": "markdown",
   "id": "b322b921-224b-4aa3-8494-a734d8808097",
   "metadata": {},
   "source": [
    "## load openPMD series\n",
    "\n",
    "(no changes needed)"
   ]
  },
  {
   "cell_type": "code",
   "execution_count": null,
   "id": "2be87a9d-bb8c-46c8-abff-f6b6e7d162ec",
   "metadata": {},
   "outputs": [],
   "source": [
    "series = io.Series(path_to_simulation + \"/simOutput/openPMD/simData_%06T.bp\", access=io.Access_Type.read_only)"
   ]
  },
  {
   "cell_type": "markdown",
   "id": "80ef6c56-6665-4a11-90de-ceef78c8c83b",
   "metadata": {},
   "source": [
    "### select a time step (iteration)\n",
    "\n",
    "choose any valid output time step"
   ]
  },
  {
   "cell_type": "code",
   "execution_count": null,
   "id": "31865b03-031c-45e3-a5fc-c2c5f921646c",
   "metadata": {},
   "outputs": [],
   "source": [
    "time_step = 1500\n",
    "\n",
    "it = series.iterations[time_step]"
   ]
  },
  {
   "cell_type": "markdown",
   "id": "952057d8-40dc-47b6-9243-4371eb9371c1",
   "metadata": {},
   "source": [
    "### what attributes are there?"
   ]
  },
  {
   "cell_type": "code",
   "execution_count": null,
   "id": "ce032d6c-0e74-44fb-96a7-e3f7abd82077",
   "metadata": {},
   "outputs": [],
   "source": [
    "for i in it.attributes:\n",
    "    print(i)"
   ]
  },
  {
   "cell_type": "markdown",
   "id": "c996ff70-a1d3-4e39-bae7-21921b7acdf8",
   "metadata": {},
   "source": [
    "let's get the grid resolution:"
   ]
  },
  {
   "cell_type": "code",
   "execution_count": null,
   "id": "3fb02114-9c20-4bc2-84fb-b3dab8249a08",
   "metadata": {},
   "outputs": [],
   "source": [
    "delta_x = it.get_attribute('cell_width')\n",
    "delta_y = it.get_attribute('cell_height')\n",
    "unit_length = it.get_attribute('unit_length')\n",
    "\n",
    "# convert to SI units\n",
    "delta_x *= unit_length\n",
    "delta_y *= unit_length\n",
    "\n",
    "print(delta_x, delta_y) # in meter"
   ]
  },
  {
   "cell_type": "markdown",
   "id": "4b34b06b-72b4-4af6-9f19-b3deb0929873",
   "metadata": {},
   "source": [
    "### load mesh data"
   ]
  },
  {
   "cell_type": "code",
   "execution_count": null,
   "id": "e6ba3191-a28d-4ddd-831b-321c20f149a6",
   "metadata": {},
   "outputs": [],
   "source": [
    "# load electron density\n",
    "\n",
    "h = it.meshes[\"e_all_chargeDensity\"][io.Mesh_Record_Component.SCALAR]\n",
    "\n",
    "print(\"shape:\", h.shape)\n",
    "N_x, N_y, N_z = h.shape"
   ]
  },
  {
   "cell_type": "code",
   "execution_count": null,
   "id": "c7ad4fad-00e2-4bc1-aa17-8e5ee68aafcd",
   "metadata": {},
   "outputs": [],
   "source": [
    "# load a slice of the 3D data \n",
    "\n",
    "n_e = h[:, :, 192//2]\n",
    "n_e_SI = h.unit_SI\n",
    "series.flush()\n",
    "n_e *= n_e_SI / const.elementary_charge * -1"
   ]
  },
  {
   "cell_type": "markdown",
   "id": "d4b8570f-9b92-438c-bbb0-f97bbd61a784",
   "metadata": {},
   "source": [
    "### generate axis of mesh data"
   ]
  },
  {
   "cell_type": "code",
   "execution_count": null,
   "id": "5f46d26a-7fa7-46c5-b8c0-7c448f071fbc",
   "metadata": {},
   "outputs": [],
   "source": [
    "x = (np.arange(N_x) - N_x//2) * delta_x\n",
    "y = np.arange(N_y) * delta_y"
   ]
  },
  {
   "cell_type": "markdown",
   "id": "78538db5-70d9-4127-bb1d-5c47ced3a7ea",
   "metadata": {},
   "source": [
    "### plot mesh data"
   ]
  },
  {
   "cell_type": "code",
   "execution_count": null,
   "id": "c73197b4-1554-43f7-9afc-d703eca995e8",
   "metadata": {},
   "outputs": [],
   "source": [
    "plt.pcolormesh(y/1e-6, x/1e-6, n_e/1e25, cmap=plt.cm.gray_r, vmax=3)\n",
    "\n",
    "plt.xlabel(r\"$y \\, \\mathrm{[\\mu m]}$\", fontsize=18)\n",
    "plt.xticks(fontsize=14)\n",
    "\n",
    "plt.ylabel(r\"$x \\, \\mathrm{[\\mu m]}$\", fontsize=18)\n",
    "plt.yticks(fontsize=14)\n",
    "\n",
    "cb = plt.colorbar()\n",
    "cb.set_label(r\"$n_e \\, \\mathrm{[10^{25} m^{-3}]}$\", fontsize=18)\n",
    "\n",
    "plt.tight_layout()\n",
    "plt.show()"
   ]
  },
  {
   "cell_type": "markdown",
   "id": "0bee0d96-38ef-45b3-aef9-9878560c2bd4",
   "metadata": {},
   "source": [
    "### more meshes \n",
    "\n",
    "There are are moshes to explore:"
   ]
  },
  {
   "cell_type": "code",
   "execution_count": null,
   "id": "b9fafd75-49eb-413e-a553-2e73afcfebea",
   "metadata": {},
   "outputs": [],
   "source": [
    "for i in it.meshes:\n",
    "    print(i)"
   ]
  },
  {
   "cell_type": "markdown",
   "id": "d0b7c765-a03a-47ae-974a-84a3922e234b",
   "metadata": {},
   "source": [
    "feel free to add your own code"
   ]
  },
  {
   "cell_type": "markdown",
   "id": "e37e8dfb-7404-4706-9706-8c938b8ff9c3",
   "metadata": {},
   "source": [
    "## load particle data"
   ]
  },
  {
   "cell_type": "code",
   "execution_count": null,
   "id": "5f6adcbb-dcca-4e41-9580-c9258d6aff20",
   "metadata": {},
   "outputs": [],
   "source": [
    "# macro particle weighting\n",
    "\n",
    "h = it.particles[\"e\"][\"weighting\"][io.Mesh_Record_Component.SCALAR]\n",
    "\n",
    "print(\"number of particles:\", h.shape)\n",
    "\n",
    "w = h.load_chunk()\n",
    "w_SI = h.unit_SI\n",
    "series.flush()\n",
    "w *= w_SI"
   ]
  },
  {
   "cell_type": "code",
   "execution_count": null,
   "id": "b38ccc0d-7cfd-4683-b8b3-75687000178e",
   "metadata": {},
   "outputs": [],
   "source": [
    "# momentum component\n",
    "\n",
    "h = it.particles[\"e\"][\"momentum\"][\"y\"]\n",
    "\n",
    "p_y = h.load_chunk()\n",
    "p_y_SI = h.unit_SI\n",
    "series.flush()\n",
    "p_y *= p_y_SI / w / const.electron_mass / const.speed_of_light"
   ]
  },
  {
   "cell_type": "markdown",
   "id": "044a3645-a221-4dc8-aa9f-021f65f808aa",
   "metadata": {},
   "source": [
    "### plot particle data"
   ]
  },
  {
   "cell_type": "code",
   "execution_count": null,
   "id": "6a3f6ac0-a848-48de-adae-6a27522303ed",
   "metadata": {},
   "outputs": [],
   "source": [
    "plt.hist(p_y, weights=w, bins=128)\n",
    "plt.yscale(\"log\")\n",
    "\n",
    "\n",
    "plt.xlabel(r\"$p_y /(m_e c)$\", fontsize=18)\n",
    "plt.xticks(fontsize=14)\n",
    "\n",
    "plt.ylabel(r\"$N_e$\", fontsize=18)\n",
    "plt.yticks(fontsize=14)\n",
    "\n",
    "plt.tight_layout()\n",
    "plt.show()"
   ]
  },
  {
   "cell_type": "markdown",
   "id": "a51d8316-f73b-4c89-a4bf-1f8ae50a1706",
   "metadata": {},
   "source": [
    "### there is more particle data to explore"
   ]
  },
  {
   "cell_type": "code",
   "execution_count": null,
   "id": "00e78ba2-f280-4e34-b27f-00d6b2f836af",
   "metadata": {},
   "outputs": [],
   "source": [
    "for i in it.particles[\"e\"]:\n",
    "    print(i)"
   ]
  },
  {
   "cell_type": "markdown",
   "id": "88c1b7e4-a186-44a7-9a23-adbfdd3d0c7d",
   "metadata": {},
   "source": [
    "feel free to writhe your own data analysis"
   ]
  },
  {
   "cell_type": "code",
   "execution_count": null,
   "id": "bd628cf2-4872-4437-a6b3-867b42fc3e79",
   "metadata": {},
   "outputs": [],
   "source": []
  },
  {
   "cell_type": "code",
   "execution_count": null,
   "id": "63be5fa5-1c60-46f7-b48d-dd5e97fd42df",
   "metadata": {},
   "outputs": [],
   "source": [
    "from extra.plugins.plot_mpl import EnergyHistogramMPL"
   ]
  },
  {
   "cell_type": "code",
   "execution_count": null,
   "id": "dadaa711-77f0-401b-9274-26fee49da7f0",
   "metadata": {},
   "outputs": [],
   "source": [
    "!ls /scratch/project_465001310/pauschri/08_LWFA_4_nores_mappedMemory/simOutput"
   ]
  },
  {
   "cell_type": "code",
   "execution_count": null,
   "id": "4d45560e-f671-43e5-97f6-88566335b453",
   "metadata": {},
   "outputs": [],
   "source": []
  }
 ],
 "metadata": {
  "kernelspec": {
   "display_name": "Python 3 (ipykernel)",
   "language": "python",
   "name": "python3"
  },
  "language_info": {
   "codemirror_mode": {
    "name": "ipython",
    "version": 3
   },
   "file_extension": ".py",
   "mimetype": "text/x-python",
   "name": "python",
   "nbconvert_exporter": "python",
   "pygments_lexer": "ipython3",
   "version": "3.11.7"
  }
 },
 "nbformat": 4,
 "nbformat_minor": 5
}
